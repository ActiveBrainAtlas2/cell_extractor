{
 "cells": [
  {
   "cell_type": "code",
   "execution_count": 4,
   "metadata": {},
   "outputs": [],
   "source": [
    "import sys\n",
    "sys.path.append('/scratch/programming/preprocessing-pipeline/in_development/Will')\n",
    "sys.path.append('/scratch/programming/preprocessing-pipeline/src/')\n",
    "from cell_extractor.Detector import Detector\n",
    "from cell_extractor.CellDetectorBase import CellDetectorBase\n",
    "from cell_extractor.Predictor import GreedyPredictor\n",
    "import pickle\n",
    "base = CellDetectorBase('DK55')\n"
   ]
  },
  {
   "cell_type": "code",
   "execution_count": 5,
   "metadata": {},
   "outputs": [],
   "source": [
    "base = CellDetectorBase('DK55',round=1)\n",
    "model_round1 = '/net/birdstore/Active_Atlas_Data/cell_segmentation/BoostedTrees.pkl'\n",
    "model_round1 = pickle.load(open(model_round1,'rb'))\n",
    "predictor_round1 = GreedyPredictor(boundary_points=[[0,0.8],[2,2.5],[0,3.3],[-2,2.5],[-10,4],[10,4]])\n",
    "detector_round1 = Detector(model_round1,predictor_round1)\n",
    "base.save_detector(detector_round1)"
   ]
  },
  {
   "cell_type": "code",
   "execution_count": 9,
   "metadata": {},
   "outputs": [],
   "source": [
    "base = CellDetectorBase('DK55',round=2)\n",
    "model_round2 = '/net/birdstore/Active_Atlas_Data/cell_segmentation/models/Boosted_Trees_round2.pkl'\n",
    "model_round2 = pickle.load(open(model_round2,'rb'))\n",
    "predictor_round2 = GreedyPredictor(boundary_points=[[0, 2], [3, 3.5], [0, 4], [-2, 3], [-10, 5], [10, 5]])\n",
    "detector_round2 = Detector(model_round2,predictor_round2)\n",
    "base.save_detector(detector_round2)"
   ]
  }
 ],
 "metadata": {
  "interpreter": {
   "hash": "2533c74531520ed8a9e12d74b09480bfc2e121faafaeb89b603908d5709f20cf"
  },
  "kernelspec": {
   "display_name": "Python 2.7.18 ('venvDet': virtualenv)",
   "language": "python",
   "name": "python3"
  },
  "language_info": {
   "codemirror_mode": {
    "name": "ipython",
    "version": 3
   },
   "file_extension": ".py",
   "mimetype": "text/x-python",
   "name": "python",
   "nbconvert_exporter": "python",
   "pygments_lexer": "ipython3",
   "version": "3.8.10"
  },
  "orig_nbformat": 4
 },
 "nbformat": 4,
 "nbformat_minor": 2
}
