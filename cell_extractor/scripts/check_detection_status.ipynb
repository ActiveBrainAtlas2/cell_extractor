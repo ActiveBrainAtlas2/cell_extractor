{
 "cells": [
  {
   "cell_type": "code",
   "execution_count": 55,
   "metadata": {},
   "outputs": [],
   "source": [
    "import os\n",
    "from glob import glob\n",
    "import re\n",
    "import numpy as np\n",
    "def get_thresholds_and_file_count(file_list):\n",
    "    thresholds = np.array([int(re.search('\\d*',i[i.find('threshold_') + len('threshold_'):]).group(0)) for i in file_list])\n",
    "    unique_thresholds = np.unique(thresholds)\n",
    "    file_counts = [sum(thresholds==threshold) for threshold in unique_thresholds]\n",
    "    return file_counts,unique_thresholds\n",
    "\n",
    "def report_animal_status(animal):\n",
    "    all_examples = glob(f'/net/birdstore/Active_Atlas_Data/cell_segmentation/{animal}/CH3/*/extracted_cells*')\n",
    "    all_features = glob(f'/net/birdstore/Active_Atlas_Data/cell_segmentation/{animal}/CH3/*/puntas*')\n",
    "    folders = glob(f'/net/birdstore/Active_Atlas_Data/cell_segmentation/{animal}/CH3/*')\n",
    "    folder_count = len(folders)\n",
    "    featrue_counts,feature_thresholds = get_thresholds_and_file_count(all_features)\n",
    "    example_counts,example_thresholds = get_thresholds_and_file_count(all_examples)\n",
    "    print(f'checking animal {animal}')\n",
    "    print(f'total folders {folder_count}')\n",
    "    print('found examples')\n",
    "    for id,i in enumerate(example_thresholds):\n",
    "        print(f'threshold {i}, count {example_counts[id]}')\n",
    "    print('found features')\n",
    "    for id,i in enumerate(feature_thresholds):\n",
    "        print(f'threshold {i}, count {featrue_counts[id]}')\n"
   ]
  },
  {
   "cell_type": "code",
   "execution_count": 97,
   "metadata": {},
   "outputs": [
    {
     "name": "stdout",
     "output_type": "stream",
     "text": [
      "checking animal DK41\n",
      "total folders 467\n",
      "found examples\n",
      "threshold 2000, count 467\n",
      "threshold 3000, count 467\n",
      "threshold 4000, count 467\n",
      "found features\n",
      "threshold 2000, count 467\n",
      "threshold 3000, count 467\n",
      "threshold 4000, count 467\n",
      "checking animal DK52\n",
      "total folders 486\n",
      "found examples\n",
      "threshold 2000, count 486\n",
      "threshold 3000, count 486\n",
      "threshold 4000, count 486\n",
      "found features\n",
      "threshold 2000, count 486\n",
      "checking animal DK60\n",
      "total folders 440\n",
      "found examples\n",
      "threshold 2000, count 438\n",
      "threshold 3000, count 282\n",
      "threshold 4000, count 203\n",
      "found features\n",
      "checking animal DK55\n",
      "total folders 485\n",
      "found examples\n",
      "threshold 2100, count 485\n",
      "threshold 2200, count 485\n",
      "threshold 2300, count 485\n",
      "threshold 2700, count 485\n",
      "found features\n",
      "threshold 2100, count 485\n",
      "threshold 2200, count 485\n",
      "threshold 2300, count 485\n",
      "threshold 2700, count 485\n",
      "checking animal DK46\n",
      "total folders 458\n",
      "found examples\n",
      "threshold 2000, count 458\n",
      "threshold 3000, count 435\n",
      "threshold 4000, count 377\n",
      "found features\n",
      "checking animal DK39\n",
      "total folders 0\n",
      "found examples\n",
      "found features\n",
      "checking animal DK50\n",
      "total folders 484\n",
      "found examples\n",
      "threshold 2000, count 484\n",
      "threshold 3000, count 484\n",
      "threshold 4000, count 484\n",
      "found features\n",
      "checking animal DK43\n",
      "total folders 392\n",
      "found examples\n",
      "threshold 2000, count 392\n",
      "threshold 3000, count 392\n",
      "threshold 4000, count 365\n",
      "found features\n",
      "checking animal DK54\n",
      "total folders 384\n",
      "found examples\n",
      "threshold 2000, count 382\n",
      "threshold 3000, count 382\n",
      "threshold 4000, count 382\n",
      "found features\n",
      "threshold 2000, count 1\n",
      "checking animal DK61\n",
      "total folders 451\n",
      "found examples\n",
      "threshold 2000, count 450\n",
      "threshold 3000, count 450\n",
      "threshold 4000, count 450\n",
      "found features\n",
      "checking animal DK40\n",
      "total folders 444\n",
      "found examples\n",
      "threshold 2000, count 444\n",
      "threshold 3000, count 444\n",
      "threshold 4000, count 444\n",
      "found features\n"
     ]
    }
   ],
   "source": [
    "path = '/net/birdstore/Active_Atlas_Data/cell_segmentation/'\n",
    "dirs = os.listdir(path)\n",
    "dirs = [i for i in dirs if os.path.isdir(path+i)]\n",
    "dirs.remove('detectors')\n",
    "dirs.remove('models')\n",
    "for animal in dirs:\n",
    "    report_animal_status(animal)"
   ]
  },
  {
   "cell_type": "code",
   "execution_count": 72,
   "metadata": {},
   "outputs": [],
   "source": [
    "old_detections = glob('/net/birdstore/Active_Atlas_Data/cell_segmentation/*/detections_*.2.csv')"
   ]
  },
  {
   "cell_type": "code",
   "execution_count": 98,
   "metadata": {},
   "outputs": [
    {
     "ename": "NameError",
     "evalue": "name 'CellDetectorBase' is not defined",
     "output_type": "error",
     "traceback": [
      "\u001b[0;31m---------------------------------------------------------------------------\u001b[0m",
      "\u001b[0;31mNameError\u001b[0m                                 Traceback (most recent call last)",
      "\u001b[0;32m<ipython-input-98-0f39d5b49417>\u001b[0m in \u001b[0;36m<module>\u001b[0;34m\u001b[0m\n\u001b[0;32m----> 1\u001b[0;31m \u001b[0mbase\u001b[0m \u001b[0;34m=\u001b[0m \u001b[0mCellDetectorBase\u001b[0m\u001b[0;34m(\u001b[0m\u001b[0manimal\u001b[0m\u001b[0;34m)\u001b[0m\u001b[0;34m\u001b[0m\u001b[0;34m\u001b[0m\u001b[0m\n\u001b[0m",
      "\u001b[0;31mNameError\u001b[0m: name 'CellDetectorBase' is not defined"
     ]
    }
   ],
   "source": [
    "base = CellDetectorBase(animal)"
   ]
  },
  {
   "cell_type": "code",
   "execution_count": 94,
   "metadata": {},
   "outputs": [
    {
     "name": "stdout",
     "output_type": "stream",
     "text": [
      "/net/birdstore/Active_Atlas_Data/cell_segmentation/DK41/detections/detections_DK41.2._threshold_2000.csv\n",
      "/net/birdstore/Active_Atlas_Data/cell_segmentation/DK52/detections/detections_DK52.2._threshold_2000.csv\n",
      "/net/birdstore/Active_Atlas_Data/cell_segmentation/DK55/detections/detections_DK55.2._threshold_2000.csv\n",
      "/net/birdstore/Active_Atlas_Data/cell_segmentation/DK46/detections/detections_DK46.2._threshold_2000.csv\n",
      "/net/birdstore/Active_Atlas_Data/cell_segmentation/DK50/detections/detections_DK50.2._threshold_2000.csv\n",
      "/net/birdstore/Active_Atlas_Data/cell_segmentation/DK43/detections/detections_DK43.2._threshold_2000.csv\n",
      "/net/birdstore/Active_Atlas_Data/cell_segmentation/DK54/detections/detections_DK54.2._threshold_2000.csv\n"
     ]
    }
   ],
   "source": [
    "for i in old_detections:\n",
    "    dir =os.path.dirname(i)\n",
    "    file_name = os.path.basename(i)\n",
    "    id = file_name.find('.2.')\n",
    "    # detection_folder = os.path.join(path,'detection')\n",
    "    # os.makedirs(detection_folder,exist_ok=True)\n",
    "    animal = file_name[file_name.find('detections_')+11:].split('.')[0]\n",
    "    detection = os.path.join(path,animal,'detections',file_name[:id+3]+'_threshold_2000.csv')\n",
    "    # shutil.copyfile(i, detection)\n",
    "    shutil.rmfile(detection)\n",
    "    print(detection)"
   ]
  },
  {
   "cell_type": "code",
   "execution_count": 91,
   "metadata": {},
   "outputs": [
    {
     "data": {
      "text/plain": [
       "'DK54'"
      ]
     },
     "execution_count": 91,
     "metadata": {},
     "output_type": "execute_result"
    }
   ],
   "source": [
    "file_name[file_name.find('detections_')+11:].split('.')[0]"
   ]
  },
  {
   "cell_type": "code",
   "execution_count": 89,
   "metadata": {},
   "outputs": [
    {
     "data": {
      "text/plain": [
       "11"
      ]
     },
     "execution_count": 89,
     "metadata": {},
     "output_type": "execute_result"
    }
   ],
   "source": [
    "len('detections_')"
   ]
  },
  {
   "cell_type": "code",
   "execution_count": null,
   "metadata": {},
   "outputs": [],
   "source": []
  }
 ],
 "metadata": {
  "kernelspec": {
   "display_name": "Python 3.6.9 ('pipeline')",
   "language": "python",
   "name": "python3"
  },
  "language_info": {
   "codemirror_mode": {
    "name": "ipython",
    "version": 3
   },
   "file_extension": ".py",
   "mimetype": "text/x-python",
   "name": "python",
   "nbconvert_exporter": "python",
   "pygments_lexer": "ipython3",
   "version": "3.6.9"
  },
  "orig_nbformat": 4,
  "vscode": {
   "interpreter": {
    "hash": "9b29855540defb355a50951874e4b3a9a33e036ed29af88ad65ef37e45f70f6e"
   }
  }
 },
 "nbformat": 4,
 "nbformat_minor": 2
}
