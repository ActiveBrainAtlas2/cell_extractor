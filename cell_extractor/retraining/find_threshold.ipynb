{
 "cells": [
  {
   "cell_type": "code",
   "execution_count": 1,
   "metadata": {},
   "outputs": [
    {
     "name": "stdout",
     "output_type": "stream",
     "text": [
      "1.5.1\n"
     ]
    }
   ],
   "source": [
    "import sys\n",
    "sys.path.append('/home/zhw272/programming/pipeline_utility/in_development/Will')\n",
    "sys.path.append('/home/zhw272/programming/pipeline_utility/src')\n",
    "from cell_extractor.CellDetectorTrainer import CellDetectorTrainer\n"
   ]
  },
  {
   "cell_type": "code",
   "execution_count": 2,
   "metadata": {},
   "outputs": [
    {
     "name": "stdout",
     "output_type": "stream",
     "text": [
      "{'eta': 0.3, 'objective': 'binary:logistic', 'nthread': 7}\n",
      "802526\n",
      "{'eta': 0.3, 'objective': 'binary:logistic', 'nthread': 7}\n",
      "389234\n",
      "{'eta': 0.3, 'objective': 'binary:logistic', 'nthread': 7}\n",
      "222417\n"
     ]
    }
   ],
   "source": [
    "for threshold in [2000,3000,4000]:\n",
    "    trainer = CellDetectorTrainer('DK55',round=2,segmentation_threshold=threshold)\n",
    "    features = trainer.get_combined_features()\n",
    "    print(len(features))"
   ]
  },
  {
   "cell_type": "code",
   "execution_count": null,
   "metadata": {},
   "outputs": [],
   "source": []
  }
 ],
 "metadata": {
  "interpreter": {
   "hash": "97e209aa8511c3356558c5b4441d0fe17ed27fc557fbfde94b259769985fb2e3"
  },
  "kernelspec": {
   "display_name": "Python 3.6.9 64-bit ('pipeline': venv)",
   "language": "python",
   "name": "python3"
  },
  "language_info": {
   "codemirror_mode": {
    "name": "ipython",
    "version": 3
   },
   "file_extension": ".py",
   "mimetype": "text/x-python",
   "name": "python",
   "nbconvert_exporter": "python",
   "pygments_lexer": "ipython3",
   "version": "3.6.9"
  },
  "orig_nbformat": 4
 },
 "nbformat": 4,
 "nbformat_minor": 2
}
