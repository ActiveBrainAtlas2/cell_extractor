{
 "cells": [
  {
   "cell_type": "code",
   "execution_count": 28,
   "metadata": {},
   "outputs": [
    {
     "name": "stdout",
     "output_type": "stream",
     "text": [
      "{'eta': 0.3, 'objective': 'binary:logistic', 'nthread': 7}\n"
     ]
    }
   ],
   "source": [
    "import sys\n",
    "sys.path.append('/home/zhw272/programming/pipeline_utility/in_development/Will')\n",
    "sys.path.append('/home/zhw272/programming/pipeline_utility/src')\n",
    "from cell_extractor.CellDetectorTrainer import CellDetectorTrainer\n",
    "from cell_extractor.CellDetectorBase import CellDetectorBase\n",
    "from cell_extractor.diagnostics.script import get_cell_detections\n",
    "import numpy as np\n",
    "from glob import glob\n",
    "import pickle as pk\n",
    "import os \n",
    "import pandas as pd\n",
    "self = CellDetectorTrainer('DK55',round=2,segmentation_threshold=2000)\n",
    "combined_features = self.get_combined_features()\n",
    "test_counts,train_sections = pk.load(open(self.last_round.QUALIFICATIONS,'rb'))\n",
    "# all_segment = np.array([combined_features.col,combined_features.row,combined_features.section]).T\n",
    "\n",
    "# cells = test_counts['computer sure, human unmarked']\n",
    "# cells = np.array([[ci[1]['x'],ci[1]['y'],ci[1]['section']] for ci in cells])\n",
    "# cells_index = self.find_cloest_neighbor_among_points(all_segment,cells)\n",
    "\n",
    "# original = train_sections['original training set after mind change']\n",
    "# original = np.array([[ci[1]['x'],ci[1]['y'],ci[1]['section']] for ci in original])\n",
    "# original_index = self.find_cloest_neighbor_among_points(all_segment,original)\n",
    "\n",
    "qc_annotation_input_path = os.path.join('/home/zhw272/programming/pipeline_utility/in_development/yoav/marked_cell_detector/data2')\n",
    "neg = qc_annotation_input_path+'/DK55_premotor_manual_negative_round1_2021-12-09.csv'\n",
    "pos = qc_annotation_input_path+'/DK55_premotor_manual_positive_round1_2021-12-09.csv'\n",
    "r1_neg = pd.read_csv(neg,header=None).to_numpy()\n",
    "r1_pos = pd.read_csv(pos,header=None).to_numpy()\n",
    "# positive = self.find_cloest_neighbor_among_points(all_segment,pos)\n",
    "# negative = self.find_cloest_neighbor_among_points(all_segment,neg)\n",
    "# dirs=glob('/net/birdstore/Active_Atlas_Data/cell_segmentation/DK55/CH3/*/DK55*.csv') \n",
    "# manual_sections = [int(i.split('/')[-2]) for i in dirs]\n",
    "# labels = np.zeros(len(combined_features))\n",
    "# positive_index = cells_index+original_index+positive"
   ]
  },
  {
   "cell_type": "code",
   "execution_count": 29,
   "metadata": {},
   "outputs": [
    {
     "data": {
      "text/plain": [
       "array([[1.95720000e+04, 1.39510154e+04, 3.00000000e+01],\n",
       "       [1.96080000e+04, 1.40220000e+04, 3.20000000e+01],\n",
       "       [2.64060000e+04, 9.93698462e+03, 3.50000000e+01],\n",
       "       ...,\n",
       "       [4.15661538e+04, 2.15820000e+04, 2.48000000e+02],\n",
       "       [3.26969231e+04, 1.67569846e+04, 2.48000000e+02],\n",
       "       [5.49550769e+04, 2.37489846e+04, 2.51000000e+02]])"
      ]
     },
     "execution_count": 29,
     "metadata": {},
     "output_type": "execute_result"
    }
   ],
   "source": [
    "r1_neg"
   ]
  },
  {
   "cell_type": "code",
   "execution_count": 25,
   "metadata": {},
   "outputs": [],
   "source": [
    "r1_sure = pd.concat([i[1] for i in test_counts['computer sure, human unmarked']],axis=1).T"
   ]
  },
  {
   "cell_type": "code",
   "execution_count": 26,
   "metadata": {},
   "outputs": [],
   "source": [
    "og = pd.concat([i[1] for i in train_sections['original training set after mind change']],axis=1).T"
   ]
  },
  {
   "cell_type": "code",
   "execution_count": 24,
   "metadata": {},
   "outputs": [
    {
     "name": "stdout",
     "output_type": "stream",
     "text": [
      "original_human_positive\n",
      "round0_human_negative\n",
      "round0_human_positive\n",
      "round0_machine_sure\n",
      "round0_machine_unsure\n",
      "round1_human_negative\n",
      "round1_human_positive\n",
      "round1_machine_sure\n",
      "round1_machine_unsure\n",
      "round2_machine_sure\n",
      "round2_machine_unsure\n"
     ]
    }
   ],
   "source": [
    "dets = get_cell_detections()\n",
    "for i in dets.keys():\n",
    "    print(i)"
   ]
  },
  {
   "cell_type": "code",
   "execution_count": 56,
   "metadata": {},
   "outputs": [],
   "source": [
    "def df_to_np(df):\n",
    "    return np.array([df.x.to_numpy(),df.y.to_numpy(),df.section.to_numpy()]).T.astype(int)"
   ]
  },
  {
   "cell_type": "code",
   "execution_count": 63,
   "metadata": {},
   "outputs": [
    {
     "name": "stdout",
     "output_type": "stream",
     "text": [
      "(1910, 3) (1851, 3)\n",
      "2\n"
     ]
    }
   ],
   "source": [
    "a = df_to_np(dets['original_human_positive'])\n",
    "b = df_to_np(og)\n",
    "print(a.shape,b.shape)\n",
    "print(max([np.abs((a-i).sum(axis=1)).min() for i in b]))"
   ]
  },
  {
   "cell_type": "code",
   "execution_count": 70,
   "metadata": {},
   "outputs": [
    {
     "name": "stdout",
     "output_type": "stream",
     "text": [
      "(364, 3) (351, 3)\n",
      "1.9999999999972715\n"
     ]
    }
   ],
   "source": [
    "b = df_to_np(dets['round1_human_negative'])\n",
    "a = r1_neg\n",
    "print(a.shape,b.shape)\n",
    "print(max([np.abs((a-i).sum(axis=1)).min() for i in b]))"
   ]
  },
  {
   "cell_type": "code",
   "execution_count": 68,
   "metadata": {},
   "outputs": [
    {
     "name": "stdout",
     "output_type": "stream",
     "text": [
      "(893, 3) (883, 3)\n",
      "2.0\n",
      "(893, 3) (883, 3)\n",
      "2.0\n"
     ]
    }
   ],
   "source": [
    "b = df_to_np(dets['round1_human_positive'])\n",
    "a = r1_pos\n",
    "print(a.shape,b.shape)\n",
    "print(max([np.abs((a-i).sum(axis=1)).min() for i in b]))\n",
    "a = r1_pos\n",
    "print(a.shape,b.shape)\n",
    "print(max([np.abs((a-i).sum(axis=1)).min() for i in b]))"
   ]
  },
  {
   "cell_type": "code",
   "execution_count": null,
   "metadata": {},
   "outputs": [],
   "source": []
  }
 ],
 "metadata": {
  "kernelspec": {
   "display_name": "Python 3.6.9 ('pipeline')",
   "language": "python",
   "name": "python3"
  },
  "language_info": {
   "codemirror_mode": {
    "name": "ipython",
    "version": 3
   },
   "file_extension": ".py",
   "mimetype": "text/x-python",
   "name": "python",
   "nbconvert_exporter": "python",
   "pygments_lexer": "ipython3",
   "version": "3.6.9"
  },
  "orig_nbformat": 4,
  "vscode": {
   "interpreter": {
    "hash": "9b29855540defb355a50951874e4b3a9a33e036ed29af88ad65ef37e45f70f6e"
   }
  }
 },
 "nbformat": 4,
 "nbformat_minor": 2
}
